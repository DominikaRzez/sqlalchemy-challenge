{
 "cells": [
  {
   "cell_type": "code",
   "execution_count": 1,
   "id": "35e249e7",
   "metadata": {},
   "outputs": [],
   "source": [
    "# Importing dependecies\n",
    "%matplotlib inline\n",
    "from matplotlib import style\n",
    "style.use('fivethirtyeight')\n",
    "import matplotlib.pyplot as plt"
   ]
  },
  {
   "cell_type": "code",
   "execution_count": 2,
   "id": "17c7520a",
   "metadata": {},
   "outputs": [],
   "source": [
    "import numpy as np\n",
    "import pandas as pd\n",
    "import datetime as dt"
   ]
  },
  {
   "cell_type": "markdown",
   "id": "1a5ec826",
   "metadata": {},
   "source": [
    "<h2>Reflecting Tables into SQLAlchemy ORM</h2>"
   ]
  },
  {
   "cell_type": "code",
   "execution_count": 3,
   "id": "d4f98e65",
   "metadata": {},
   "outputs": [],
   "source": [
    "# Python SQL toolkit and Object Relational Mapper\n",
    "import sqlalchemy\n",
    "from sqlalchemy.ext.automap import automap_base\n",
    "from sqlalchemy.orm import Session\n",
    "from sqlalchemy import create_engine, func"
   ]
  },
  {
   "cell_type": "code",
   "execution_count": 4,
   "id": "de683663",
   "metadata": {},
   "outputs": [],
   "source": [
    " # creating engine to hawaii.sqlite\n",
    "engine = create_engine(\"sqlite:///Resources/hawaii.sqlite\")"
   ]
  },
  {
   "cell_type": "code",
   "execution_count": 5,
   "id": "bac18662",
   "metadata": {},
   "outputs": [],
   "source": [
    "# reflecting an existing database into a new model\n",
    "Base=automap_base()\n",
    "# reflecting the tables\n",
    "Base.prepare(engine, reflect=True)"
   ]
  },
  {
   "cell_type": "code",
   "execution_count": 6,
   "id": "281edd7e",
   "metadata": {},
   "outputs": [
    {
     "data": {
      "text/plain": [
       "['measurement', 'station']"
      ]
     },
     "execution_count": 6,
     "metadata": {},
     "output_type": "execute_result"
    }
   ],
   "source": [
    "# Viewing all of the classes that automap found\n",
    "Base.classes.keys()"
   ]
  },
  {
   "cell_type": "code",
   "execution_count": 8,
   "id": "e58e0c6c",
   "metadata": {},
   "outputs": [],
   "source": [
    "# Saving references to each table\n",
    "Measurement=Base.classes.measurement\n",
    "Station=Base.classes.station"
   ]
  },
  {
   "cell_type": "code",
   "execution_count": 9,
   "id": "83e0e2b9",
   "metadata": {},
   "outputs": [],
   "source": [
    "# Creating our session (link) from Python to the DB\n",
    "session=Session(engine)"
   ]
  },
  {
   "cell_type": "code",
   "execution_count": 12,
   "id": "ca316e8d",
   "metadata": {},
   "outputs": [
    {
     "name": "stdout",
     "output_type": "stream",
     "text": [
      "('2010-01-01',)\n",
      "('2010-01-02',)\n",
      "('2010-01-03',)\n",
      "('2010-01-04',)\n",
      "('2010-01-06',)\n"
     ]
    }
   ],
   "source": [
    "# Using the session to query Measurement table and display the first 5 dates\n",
    "for row in session.query(Measurement.date).limit(5).all():\n",
    "    print(row)"
   ]
  },
  {
   "cell_type": "code",
   "execution_count": 14,
   "id": "af556ff6",
   "metadata": {},
   "outputs": [
    {
     "name": "stdout",
     "output_type": "stream",
     "text": [
      "('USC00519397',)\n",
      "('USC00513117',)\n",
      "('USC00514830',)\n",
      "('USC00517948',)\n",
      "('USC00518838',)\n"
     ]
    }
   ],
   "source": [
    "# Using the session to query Measurement table and display the first 5 stations\n",
    "for row in session.query(Station.station).limit(5).all():\n",
    "    print(row)"
   ]
  },
  {
   "cell_type": "markdown",
   "id": "5ad06096",
   "metadata": {},
   "source": [
    "<h2> Exploratory Precipitation Analysis</h2>"
   ]
  },
  {
   "cell_type": "code",
   "execution_count": null,
   "id": "4a20d245",
   "metadata": {},
   "outputs": [],
   "source": [
    " # Find the most recent date in the data set."
   ]
  },
  {
   "cell_type": "code",
   "execution_count": null,
   "id": "6e28bf3d",
   "metadata": {},
   "outputs": [],
   "source": [
    "# Design a query to retrieve the last 12 months of precipitation data and plot the results. \n",
    "# Starting from the most recent data point in the database. \n",
    "\n",
    "# Calculate the date one year from the last date in data set.\n",
    "\n",
    "\n",
    "# Perform a query to retrieve the data and precipitation scores\n",
    "\n",
    "\n",
    "# Save the query results as a Pandas DataFrame and set the index to the date column\n",
    "\n",
    "\n",
    "# Sort the dataframe by date\n",
    "\n",
    "\n",
    "# Use Pandas Plotting with Matplotlib to plot the data\n",
    "\n"
   ]
  },
  {
   "cell_type": "code",
   "execution_count": null,
   "id": "1720ea06",
   "metadata": {},
   "outputs": [],
   "source": [
    " # Use Pandas to calcualte the summary statistics for the precipitation data"
   ]
  },
  {
   "cell_type": "markdown",
   "id": "5da916e5",
   "metadata": {},
   "source": [
    "<h2> Exploratory Station Analysis</h2>"
   ]
  },
  {
   "cell_type": "code",
   "execution_count": null,
   "id": "da2ded99",
   "metadata": {},
   "outputs": [],
   "source": [
    " # Design a query to calculate the total number stations in the dataset"
   ]
  },
  {
   "cell_type": "code",
   "execution_count": null,
   "id": "d8ec193f",
   "metadata": {},
   "outputs": [],
   "source": [
    " # Design a query to find the most active stations (i.e. what stations have the most rows?)\n",
    "# List the stations and the counts in descending order."
   ]
  },
  {
   "cell_type": "code",
   "execution_count": null,
   "id": "42875c7b",
   "metadata": {},
   "outputs": [],
   "source": [
    " # Using the most active station id from the previous query, calculate the lowest, highest, and average temperature."
   ]
  },
  {
   "cell_type": "code",
   "execution_count": null,
   "id": "5fb2edb7",
   "metadata": {},
   "outputs": [],
   "source": [
    " # Using the most active station id\n",
    "# Query the last 12 months of temperature observation data for this station and plot the results as a histogram"
   ]
  },
  {
   "cell_type": "markdown",
   "id": "f208123d",
   "metadata": {},
   "source": [
    "<h2> Close Session </h2>"
   ]
  },
  {
   "cell_type": "code",
   "execution_count": null,
   "id": "d59af4ae",
   "metadata": {},
   "outputs": [],
   "source": [
    " # Close Session\n",
    "session.close()"
   ]
  }
 ],
 "metadata": {
  "kernelspec": {
   "display_name": "Python 3",
   "language": "python",
   "name": "python3"
  },
  "language_info": {
   "codemirror_mode": {
    "name": "ipython",
    "version": 3
   },
   "file_extension": ".py",
   "mimetype": "text/x-python",
   "name": "python",
   "nbconvert_exporter": "python",
   "pygments_lexer": "ipython3",
   "version": "3.8.8"
  }
 },
 "nbformat": 4,
 "nbformat_minor": 5
}
