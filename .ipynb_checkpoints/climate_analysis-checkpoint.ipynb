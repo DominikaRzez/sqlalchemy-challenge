{
 "cells": [
  {
   "cell_type": "code",
   "execution_count": null,
   "id": "35e249e7",
   "metadata": {},
   "outputs": [],
   "source": [
    "# Importing dependecies\n",
    "%matplotlib inline\n",
    "from matplotlib import style\n",
    "style.use('fivethirtyeight')\n",
    "import matplotlib.pyplot as plt"
   ]
  },
  {
   "cell_type": "code",
   "execution_count": null,
   "id": "17c7520a",
   "metadata": {},
   "outputs": [],
   "source": [
    "import numpy as np\n",
    "import pandas as pd\n",
    "import datetime as dt"
   ]
  },
  {
   "cell_type": "markdown",
   "id": "1a5ec826",
   "metadata": {},
   "source": [
    "<h2>Reflecting Tables into SQLAlchemy ORM</h2>"
   ]
  },
  {
   "cell_type": "code",
   "execution_count": null,
   "id": "d4f98e65",
   "metadata": {},
   "outputs": [],
   "source": [
    "# Python SQL toolkit and Object Relational Mapper\n",
    "import sqlalchemy\n",
    "from sqlalchemy.ext.automap import automap_base\n",
    "from sqlalchemy.orm import Session\n",
    "from sqlalchemy import create_engine, func, inspect"
   ]
  },
  {
   "cell_type": "code",
   "execution_count": null,
   "id": "de683663",
   "metadata": {},
   "outputs": [],
   "source": [
    " # creating engine to hawaii.sqlite\n",
    "engine = create_engine(\"sqlite:///Resources/hawaii.sqlite\")\n",
    "conn = engine.connect()"
   ]
  },
  {
   "cell_type": "code",
   "execution_count": null,
   "id": "bac18662",
   "metadata": {},
   "outputs": [],
   "source": [
    "# reflecting an existing database into a new model\n",
    "Base=automap_base()\n",
    "# reflecting the tables\n",
    "Base.prepare(engine, reflect=True)"
   ]
  },
  {
   "cell_type": "code",
   "execution_count": null,
   "id": "281edd7e",
   "metadata": {},
   "outputs": [],
   "source": [
    "# Viewing all of the classes that automap found\n",
    "Base.classes.keys()"
   ]
  },
  {
   "cell_type": "code",
   "execution_count": null,
   "id": "e58e0c6c",
   "metadata": {},
   "outputs": [],
   "source": [
    "# Saving references to each table\n",
    "Measurement=Base.classes.measurement\n",
    "Station=Base.classes.station"
   ]
  },
  {
   "cell_type": "code",
   "execution_count": null,
   "id": "83e0e2b9",
   "metadata": {},
   "outputs": [],
   "source": [
    "# Creating our session (link) from Python to the DB\n",
    "session=Session(engine)"
   ]
  },
  {
   "cell_type": "code",
   "execution_count": null,
   "id": "5c9d80c4",
   "metadata": {},
   "outputs": [],
   "source": [
    "#Inspecting columns in the Measurement table\n",
    "inspector = inspect(engine)\n",
    "columns = inspector.get_columns('measurement')\n",
    "for c in columns:\n",
    "    print(c['name'], c[\"type\"])"
   ]
  },
  {
   "cell_type": "code",
   "execution_count": null,
   "id": "ca316e8d",
   "metadata": {},
   "outputs": [],
   "source": [
    "#Inspecting columns in the Station table\n",
    "inspector = inspect(engine)\n",
    "columns = inspector.get_columns('station')\n",
    "for c in columns:\n",
    "    print(c['name'], c[\"type\"])"
   ]
  },
  {
   "cell_type": "markdown",
   "id": "5ad06096",
   "metadata": {},
   "source": [
    "<h2> Exploratory Precipitation Analysis</h2>"
   ]
  },
  {
   "cell_type": "code",
   "execution_count": null,
   "id": "4a20d245",
   "metadata": {},
   "outputs": [],
   "source": [
    "# Find the most recent date in the data set.\n",
    "session.query(Measurement.date).order_by(Measurement.date.desc()).first()"
   ]
  },
  {
   "cell_type": "markdown",
   "id": "b76965ef",
   "metadata": {},
   "source": [
    "<h3>Designing a query to retrieve the last 12 months of precipitation data and plotting the results.</h3> "
   ]
  },
  {
   "cell_type": "code",
   "execution_count": null,
   "id": "6e28bf3d",
   "metadata": {},
   "outputs": [],
   "source": [
    "# Starting from the most recent data point - 2017-08-23 - in the database. \n",
    "#Using the most recent date to retrieve the last 12 months of precipitation data by querying the 12 preceding months of data\n",
    "date = dt.datetime(2016,8,23)\n",
    "annual_data = session.query(Measurement.date).\\\n",
    "    filter(Measurement.date > date).\\\n",
    "    order_by(Measurement.date).all()\n",
    "annual_data"
   ]
  },
  {
   "cell_type": "code",
   "execution_count": null,
   "id": "c9915c4b",
   "metadata": {},
   "outputs": [],
   "source": [
    "# Calculating the date one year from 2017-08-23\n",
    "year_ago = dt.date(2017,8,23) - dt.timedelta(days=365)\n",
    "year_ago"
   ]
  },
  {
   "cell_type": "code",
   "execution_count": null,
   "id": "f93404cb",
   "metadata": {},
   "outputs": [],
   "source": [
    "# Performing a query to retrieve the data and precipitation scores\n",
    "#Selecting only the date and prcp values.\n",
    "results = session.query(Measurement.date, Measurement.prcp).\\\n",
    "    filter(Measurement.date <= '2017-08-23').\\\n",
    "    filter(Measurement.date >= '2016-08-24').\\\n",
    "    order_by(Measurement.date).all()\n",
    "results"
   ]
  },
  {
   "cell_type": "code",
   "execution_count": null,
   "id": "b8c17178",
   "metadata": {},
   "outputs": [],
   "source": [
    "##Saving the query results as a Pandas DataFrame\n",
    "# Using Pandas `read_sql_query` to load a query statement directly into the DataFramestmt \n",
    "stmt = session.query(Measurement.date, Measurement.prcp).\\\n",
    "    filter(Measurement.date > '2016-08-23').statement\n",
    "df = pd.read_sql_query(stmt, session.bind)\n",
    "df.head(10)"
   ]
  },
  {
   "cell_type": "code",
   "execution_count": null,
   "id": "78af7304",
   "metadata": {},
   "outputs": [],
   "source": [
    "#setting the index to the date column\n",
    "df2 = df.set_index(keys='date')\n",
    "df2.head()"
   ]
  },
  {
   "cell_type": "code",
   "execution_count": null,
   "id": "9079ca67",
   "metadata": {},
   "outputs": [],
   "source": [
    "# Sortting the dataframe by date\n",
    "df2=df2.sort_values(by=['date'])\n",
    "df2.head()"
   ]
  },
  {
   "cell_type": "code",
   "execution_count": null,
   "id": "436aebce",
   "metadata": {},
   "outputs": [],
   "source": [
    "# Using Pandas Plotting with Matplotlib to plot the data\n",
    "df2.plot(title=\"Percipitation over 12 months\", alpha=0.75, rot=90).set_ylabel('Inches')\n",
    "plt.show()"
   ]
  },
  {
   "cell_type": "code",
   "execution_count": null,
   "id": "1720ea06",
   "metadata": {},
   "outputs": [],
   "source": [
    "# Using Pandas to calcualte the summary statistics for the precipitation data\n",
    "df2.describe()"
   ]
  },
  {
   "cell_type": "markdown",
   "id": "5da916e5",
   "metadata": {},
   "source": [
    "<h2> Exploratory Station Analysis</h2>"
   ]
  },
  {
   "cell_type": "code",
   "execution_count": null,
   "id": "da2ded99",
   "metadata": {},
   "outputs": [],
   "source": [
    "# Designing a query to calculate the total number stations in the Station dataset\n",
    "stations_count = session.query(Station).group_by(Station.station).count()\n",
    "print(stations_count)"
   ]
  },
  {
   "cell_type": "code",
   "execution_count": null,
   "id": "c6f1a5be",
   "metadata": {},
   "outputs": [],
   "source": [
    "# Designing a query to calculate the total number stations in the Measurement dataset\n",
    "stations_count2 = session.query(Measurement).group_by(Measurement.station).count()\n",
    "print(stations_count)"
   ]
  },
  {
   "cell_type": "code",
   "execution_count": null,
   "id": "d8ec193f",
   "metadata": {},
   "outputs": [],
   "source": [
    "# Designing a query to find the most active stations (i.e. what stations have the most rows?)\n",
    "# Listing the stations and the counts in descending order.\n",
    "station_activity = engine.execute(\"SELECT DISTINCT station, COUNT(prcp) AS prcp_count FROM measurement GROUP BY station ORDER BY prcp_count DESC\").all()\n",
    "for record in station_activity:\n",
    "    print(record)"
   ]
  },
  {
   "cell_type": "code",
   "execution_count": null,
   "id": "74fcfd89",
   "metadata": {},
   "outputs": [],
   "source": [
    "most_active =  engine.execute(\"SELECT DISTINCT station, COUNT(prcp) AS prcp_count FROM measurement GROUP BY station ORDER BY prcp_count DESC\").first()\n",
    "most_active[0]"
   ]
  },
  {
   "cell_type": "code",
   "execution_count": null,
   "id": "42875c7b",
   "metadata": {},
   "outputs": [],
   "source": [
    "# Usinging the most active station id from the previous query, calculate the lowest, highest, and average temperature.\n",
    "#Finding the lowest temperature\n",
    "min_temp = session.query(func.min(Measurement.tobs).label('Min_temp')).filter(Measurement.station==most_active[0])\n",
    "for temp in min_temp:\n",
    "    print(temp)"
   ]
  },
  {
   "cell_type": "code",
   "execution_count": null,
   "id": "550e2885",
   "metadata": {},
   "outputs": [],
   "source": [
    "#Finding highest temeparture\n",
    "max_temp = session.query(func.max(Measurement.tobs).label('Max_temp')).filter(Measurement.station== most_active[0])\n",
    "for temp in max_temp:\n",
    "    print(temp)"
   ]
  },
  {
   "cell_type": "code",
   "execution_count": null,
   "id": "ac63cfb9",
   "metadata": {},
   "outputs": [],
   "source": [
    "#Finding average temeparture\n",
    "avg_temp = session.query(func.avg(Measurement.tobs).label('Avg_temp')).filter(Measurement.station== most_active[0])\n",
    "for temp in avg_temp:\n",
    "    print(temp)"
   ]
  },
  {
   "cell_type": "code",
   "execution_count": null,
   "id": "5fb2edb7",
   "metadata": {},
   "outputs": [],
   "source": [
    "# Using the most active station id\n",
    "# Querying the last 12 months of temperature observation data for this station\n",
    "annual_temp = session.query(Measurement.date, Measurement.tobs).\\\n",
    "    filter(Measurement.date > '2016-08-23').\\\n",
    "    filter(Measurement.station==most_active[0]).\\\n",
    "    order_by(Measurement.tobs).all()\n",
    "annual_temp"
   ]
  },
  {
   "cell_type": "code",
   "execution_count": null,
   "id": "675d7ad3",
   "metadata": {},
   "outputs": [],
   "source": [
    "#plotting the results as a histogram\n",
    "#Unpacking tuples using list comprehensions\n",
    "dates = [result[0] for result in annual_temp]\n",
    "tobs = [int(result[1]) for result in annual_temp]\n",
    "#plotting\n",
    "plt.hist(tobs, density=True, bins=12)\n",
    "plt.ylabel('Frequency')\n",
    "plt.xlabel('Temperature');"
   ]
  },
  {
   "cell_type": "markdown",
   "id": "f208123d",
   "metadata": {},
   "source": [
    "<h2> Close Session </h2>"
   ]
  },
  {
   "cell_type": "code",
   "execution_count": null,
   "id": "d59af4ae",
   "metadata": {},
   "outputs": [],
   "source": [
    " # Close Session\n",
    "session.close()"
   ]
  }
 ],
 "metadata": {
  "kernelspec": {
   "display_name": "Python 3",
   "language": "python",
   "name": "python3"
  },
  "language_info": {
   "codemirror_mode": {
    "name": "ipython",
    "version": 3
   },
   "file_extension": ".py",
   "mimetype": "text/x-python",
   "name": "python",
   "nbconvert_exporter": "python",
   "pygments_lexer": "ipython3",
   "version": "3.8.8"
  }
 },
 "nbformat": 4,
 "nbformat_minor": 5
}
